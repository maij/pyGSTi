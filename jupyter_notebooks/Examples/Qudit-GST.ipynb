{
 "cells": [
  {
   "cell_type": "code",
   "execution_count": 1,
   "id": "bright-surveillance",
   "metadata": {},
   "outputs": [],
   "source": [
    "from matplotlib import pyplot as plt\n",
    "\n",
    "from matplotlib.colors import TwoSlopeNorm"
   ]
  },
  {
   "cell_type": "code",
   "execution_count": 2,
   "id": "allied-hacker",
   "metadata": {},
   "outputs": [],
   "source": [
    "import pygsti\n",
    "from math import sqrt\n",
    "import numpy as np\n",
    "\n",
    "import pygsti.modelmembers as mm\n",
    "import pygsti.models.modelconstruction as mc\n",
    "\n",
    "\n",
    "from pygsti.models import ExplicitOpModel\n",
    "from pygsti.baseobjs import ExplicitStateSpace\n",
    "\n",
    "from numpy import pi, array\n",
    "\n",
    "from pygsti import unitary_to_process_mx"
   ]
  },
  {
   "cell_type": "markdown",
   "id": "mighty-affair",
   "metadata": {},
   "source": [
    "# Create qudit model"
   ]
  },
  {
   "cell_type": "code",
   "execution_count": 5,
   "id": "minimal-raising",
   "metadata": {},
   "outputs": [],
   "source": [
    "dim = 4"
   ]
  },
  {
   "cell_type": "code",
   "execution_count": 6,
   "id": "featured-mount",
   "metadata": {},
   "outputs": [],
   "source": [
    "qudit_space = ExplicitStateSpace(['D0'], udims=[dim], types='Q')\n",
    "\n",
    "# std basis is for all matrices that are one-hot.\n",
    "# gm is the Gell-mann basis for the dim x dim space\n",
    "# basis = 'std' # Using the standard basis as its the most generic/convenient for arbitrary dimensions\n",
    "basis = 'gm' # The Gell-Mann basis seems to work best with the GST constructs\n",
    "# basis = 'pp' # The Pauli-product basis is also an option\n",
    "\n",
    "simulator = 'matrix' # Map doesn't have a product method which is needed for fiducial selection.\n",
    "qudit_model = ExplicitOpModel(qudit_space, basis=basis, simulator='matrix') "
   ]
  },
  {
   "cell_type": "markdown",
   "id": "respiratory-barcelona",
   "metadata": {},
   "source": [
    "# Add initial states, measurement POVMs"
   ]
  },
  {
   "cell_type": "code",
   "execution_count": 7,
   "id": "changing-glory",
   "metadata": {},
   "outputs": [],
   "source": [
    "rho0 = np.zeros((dim,dim))\n",
    "rho0[0,0] = 1\n",
    "qudit_model['rho0'] = pygsti.change_basis(rho0.flatten(), 'std', basis)"
   ]
  },
  {
   "cell_type": "code",
   "execution_count": 8,
   "id": "external-region",
   "metadata": {},
   "outputs": [
    {
     "data": {
      "image/png": "[encoded data removed]",
      "text/plain": [
       "<Figure size 432x288 with 3 Axes>"
      ]
     },
     "metadata": {},
     "output_type": "display_data"
    }
   ],
   "source": [
    "fig, axes = plt.subplots(1,2)\n",
    "axes[0].set_title(r'$\\rho_0$ ' +  f'(std basis)')\n",
    "axes[0].imshow(rho0, cmap='bwr', norm=TwoSlopeNorm(vcenter=0))\n",
    "axes[1].set_title(r'$\\rho_0$ ' +  f'({basis} basis)')\n",
    "# axes[1].spy(np.reshape(qudit_model['rho0'], (dim, dim)))\n",
    "im = axes[1].imshow(np.reshape(qudit_model['rho0'], (dim, dim)), cmap='bwr', norm=TwoSlopeNorm(vcenter=0, vmax=1))\n",
    "colorbar = fig.colorbar(im, ax=axes.ravel().tolist())"
   ]
  },
  {
   "cell_type": "code",
   "execution_count": 9,
   "id": "applied-basic",
   "metadata": {},
   "outputs": [],
   "source": [
    "# For plotting calculate the number of rows and columns we need to represent the dim x dim projectors.\n",
    "n_rows = int(np.floor(np.sqrt(dim)))\n",
    "n_columns = int(np.ceil(dim / n_rows))"
   ]
  },
  {
   "cell_type": "code",
   "execution_count": 10,
   "id": "sharing-dover",
   "metadata": {},
   "outputs": [],
   "source": [
    "# Simply use projective measurement of computational basis states.\n",
    "projectors = [np.diag(np.eye(dim)[:,k]) for k in range(dim) ]\n",
    "projectors_final = [pygsti.change_basis(np.reshape(p, (dim*dim, 1)), \"std\", basis) for p in projectors]\n",
    "\n",
    "qudit_model['Mdefault'] = mm.povms.UnconstrainedPOVM(\n",
    "    [(str(k), p) for k, p in zip(range(dim), projectors_final)], evotype='default', state_space=qudit_space)"
   ]
  },
  {
   "cell_type": "code",
   "execution_count": 11,
   "id": "attended-burke",
   "metadata": {},
   "outputs": [
    {
     "data": {
      "text/plain": [
       "Text(0.5, 1, 'POVM effects  (std basis)')"
      ]
     },
     "execution_count": 11,
     "metadata": {},
     "output_type": "execute_result"
    },
    {
     "data": {
      "image/png": "[encoded data removed]",
      "text/plain": [
       "<Figure size 432x288 with 5 Axes>"
      ]
     },
     "metadata": {},
     "output_type": "display_data"
    }
   ],
   "source": [
    "fig, axes = plt.subplots(n_rows,n_columns)\n",
    "axes_l = axes.flatten()\n",
    "ims = np.empty_like(axes_l)\n",
    "\n",
    "\n",
    "norm = TwoSlopeNorm(vcenter=0, vmin=-1, vmax=1)\n",
    "\n",
    "for k, (projector, ax) in enumerate(zip(projectors, axes_l)):    \n",
    "    ax.set_title(f'\"{k}\"')\n",
    "    ims[k] = ax.imshow(np.reshape(projector, (dim, dim)), cmap='bwr', norm=norm)\n",
    "\n",
    "fig.tight_layout()\n",
    "colorbar = fig.colorbar(ims[0], ax=axes.ravel().tolist())\n",
    "\n",
    "for ax in axes_l[dim:]:\n",
    "    ax.remove()\n",
    "\n",
    "fig.suptitle('POVM effects  (std basis)', y=1)"
   ]
  },
  {
   "cell_type": "code",
   "execution_count": 12,
   "id": "suffering-ultimate",
   "metadata": {},
   "outputs": [],
   "source": [
    "vmin = np.min([p for p in projectors_final])\n",
    "vmax = np.max([p for p in projectors_final])\n",
    "norm = TwoSlopeNorm(vcenter=0, vmin=vmin, vmax=vmax)"
   ]
  },
  {
   "cell_type": "code",
   "execution_count": 13,
   "id": "passing-highway",
   "metadata": {},
   "outputs": [
    {
     "data": {
      "text/plain": [
       "Text(0.5, 1, 'POVM effects (gm basis)')"
      ]
     },
     "execution_count": 13,
     "metadata": {},
     "output_type": "execute_result"
    },
    {
     "data": {
      "image/png": "[encoded data removed]",
      "text/plain": [
       "<Figure size 432x288 with 5 Axes>"
      ]
     },
     "metadata": {},
     "output_type": "display_data"
    }
   ],
   "source": [
    "fig, axes = plt.subplots(n_rows,n_columns)\n",
    "axes_l = axes.flatten()\n",
    "ims = np.empty_like(axes_l)\n",
    "for k, (projector) in enumerate(projectors_final):\n",
    "    ax = axes_l[k]\n",
    "    \n",
    "    ax.set_title(f'\"{k}\"')\n",
    "    ims[k] = ax.imshow(np.reshape(projector, (dim, dim)), cmap='bwr', norm=norm)\n",
    "    \n",
    "fig.tight_layout()\n",
    "# fig.subplots_adjust(wspace=-0.6)\n",
    "\n",
    "colorbar = fig.colorbar(ims[0], ax=axes[..., -1].ravel().tolist())\n",
    "for ax in axes_l[dim:]:\n",
    "    ax.remove()\n",
    "fig.suptitle(f'POVM effects ({basis} basis)', y=1)"
   ]
  },
  {
   "cell_type": "markdown",
   "id": "colonial-advertising",
   "metadata": {},
   "source": [
    "# Define operations and add to model"
   ]
  },
  {
   "cell_type": "code",
   "execution_count": 14,
   "id": "sustainable-rouge",
   "metadata": {},
   "outputs": [],
   "source": [
    "from itertools import permutations\n",
    "from scipy.linalg import expm\n",
    "\n",
    "def R(theta, phi):\n",
    "    \"\"\"SU(2) rotation operation, rotating through an angle theta with axis of rotation in the xy-plane chosen by phi.\n",
    "    \n",
    "    Arguments:\n",
    "        theta (float) : Angle of rotation\n",
    "        phi (float) : Axis of rotation (0 degrees = rotation about +x-axis, pi/2 -> rotation about +y axis.)\n",
    "        \n",
    "    References:\n",
    "        F. T. Arecchi, E. Courtens, R. Gilmore, H. Thomas, Atomic Coherent States in Quantum Optics. Phys Rev A. 6, 2211–2237 (1972).\n",
    "    \"\"\"\n",
    "#     return np.array([\n",
    "#         [np.cos(theta), -np.sin(theta)],\n",
    "#         [np.sin(theta), np.cos(theta)]\n",
    "#     ])\n",
    "    sigma_x = 1/2*np.array([[0, 1],[1, 0]])\n",
    "    sigma_y = 1/2*np.array([[0, -1j],[1j, 0]])\n",
    "    return expm(-1j*theta*(sigma_x*np.sin(phi) - sigma_y*np.cos(phi)))\n",
    "\n",
    "def generate_Givens(theta, phi, dim, m0 = 0, m1 = 1):\n",
    "    assert (0 <= m0 < dim) and (0 <= m1 < dim), \"Levels outside of Hilbert space.\"\n",
    "    assert m0 != m1, \"Levels must differ by at least one.\"\n",
    "    rot = R(theta, phi)\n",
    "    \n",
    "    # Create an identity and change the necessary elements later\n",
    "#     if np.isclose(phi, 0) or np.isclose(phi, np.pi):\n",
    "#         GG = np.identity(dim, dtype='float64')\n",
    "#         rot = rot.astype('float64')\n",
    "#     else:\n",
    "    GG = np.identity(dim, dtype='complex128')\n",
    "    \n",
    "    \n",
    "    # Replace elements of matrix to create Givens rotation between levels m0 and m1. \n",
    "    for k, i in enumerate([m0, m1]):\n",
    "        for kk, j in enumerate([m0, m1]):\n",
    "            GG[i, j] = rot[k, kk]\n",
    "    return GG"
   ]
  },
  {
   "cell_type": "markdown",
   "id": "favorite-wales",
   "metadata": {},
   "source": [
    "Define our operations as $\\pi$- or $\\pi/2$-rotations between levels about the $x$- and $y$-axes.  \n",
    "We define the operations in the standard matrix basis then convert to the model basis of choice.  \n",
    "\n",
    "Question 1: Should casting between bases happen automatically? e.g. if I define an operator in the standard basis and then attach it to a model in the Pauli-product basis, should it be transformed at that point in time?  \n",
    "~~Question 2: `unitary_to_process_mx(mx)`  maintains the type of `mx`. In most cases `mx` must be a complex unitary matrix, but the process matrix must always have real values. Should the process matrix be automatically cast to a real-valued matrix?~~ This no longer seems to be an issue..."
   ]
  },
  {
   "cell_type": "code",
   "execution_count": 15,
   "id": "related-ending",
   "metadata": {},
   "outputs": [],
   "source": [
    "rotation_angle = np.pi/2 # pi = X, pi/2 = sqrt(X)\n",
    "\n",
    "qudit_model['Gi'] = unitary_to_process_mx(np.eye(dim))\n",
    "for l in range(dim-1):\n",
    "    # Build 2-level x and y  pi-rotations for all adjacent levels.\n",
    "    qudit_model[f'Gx{l}{l+1}'] = pygsti.change_basis(unitary_to_process_mx(\n",
    "                                    generate_Givens(rotation_angle, 0, dim, l, l+1)), 'std', basis)\n",
    "    \n",
    "    qudit_model[f'Gy{l}{l+1}'] = pygsti.change_basis(unitary_to_process_mx(\n",
    "                                    generate_Givens(rotation_angle, np.pi/2, dim, l, l+1)), 'std', basis)"
   ]
  },
  {
   "cell_type": "markdown",
   "id": "funded-fence",
   "metadata": {},
   "source": [
    "## Try to convert operators to \"full TP\", \"TP\" and \"CPTP\"  \n",
    "The operators must be described in either the Pauli-product or Gell-mann basis, make sure to convert them prior to this section."
   ]
  },
  {
   "cell_type": "code",
   "execution_count": 16,
   "id": "divine-bidder",
   "metadata": {},
   "outputs": [
    {
     "name": "stdout",
     "output_type": "stream",
     "text": [
      "Success!\n"
     ]
    }
   ],
   "source": [
    "try:\n",
    "    for label, op in qudit_model.operations.items():\n",
    "        mm.operations.convert(op, 'full TP', basis)\n",
    "    print(\"Success!\")\n",
    "except:\n",
    "    print(\"Failed to convert...\")"
   ]
  },
  {
   "cell_type": "code",
   "execution_count": 17,
   "id": "excited-narrow",
   "metadata": {},
   "outputs": [
    {
     "name": "stdout",
     "output_type": "stream",
     "text": [
      "Success!\n"
     ]
    }
   ],
   "source": [
    "try:\n",
    "    for label, op in qudit_model.operations.items():\n",
    "        mm.operations.convert(op, 'TP', basis)\n",
    "    print(\"Success!\")\n",
    "except:\n",
    "    print(\"Failed to convert...\")"
   ]
  },
  {
   "cell_type": "code",
   "execution_count": 18,
   "id": "exotic-campbell",
   "metadata": {},
   "outputs": [
    {
     "name": "stdout",
     "output_type": "stream",
     "text": [
      "Success!\n"
     ]
    }
   ],
   "source": [
    "try:\n",
    "    for label, op in qudit_model.operations.items():\n",
    "        mm.operations.convert(op, 'CPTP', basis)\n",
    "    print(\"Success!\")\n",
    "except:\n",
    "    print(\"Failed to convert...\")"
   ]
  },
  {
   "cell_type": "markdown",
   "id": "joined-rings",
   "metadata": {},
   "source": [
    "# Create a GST gate set"
   ]
  },
  {
   "cell_type": "markdown",
   "id": "insured-upset",
   "metadata": {},
   "source": [
    "Algorithm to find fiducials does not work."
   ]
  },
  {
   "cell_type": "code",
   "execution_count": 19,
   "id": "suffering-range",
   "metadata": {},
   "outputs": [],
   "source": [
    "import pygsti.algorithms.fiducialselection as fidsel\n",
    "import pygsti.algorithms.germselection as germsel"
   ]
  },
  {
   "cell_type": "markdown",
   "id": "julian-belly",
   "metadata": {},
   "source": [
    "## Laissez faire"
   ]
  },
  {
   "cell_type": "code",
   "execution_count": 20,
   "id": "posted-blackberry",
   "metadata": {
    "scrolled": true
   },
   "outputs": [
    {
     "name": "stdout",
     "output_type": "stream",
     "text": [
      "Using GRASP algorithm.\n",
      "Complete initial fiducial set succeeds.\n",
      "Now searching for best fiducial set.\n",
      "Starting fiducial list optimization. Lower score is better.\n",
      "Starting iteration 1 of 1.\n",
      "Initial construction:\n",
      "['{}', 'Gx12Gx23Gy01Gy01', 'Gy12Gy23Gy12Gx01', 'Gx23Gy12Gy01Gy12', 'Gy23Gy12Gy01Gy23', 'Gy23Gy12Gx01Gy12', 'Gx01Gy23Gy12Gy23', 'Gy01Gx12Gy23Gy23', 'Gy12Gy01Gx23Gx12', 'Gy01Gy01Gx12Gy01', 'Gx12Gy01Gx12Gx23', 'Gx01Gx23Gx12Gx23', 'Gx01Gy12Gx01Gy23', 'Gy01Gy12Gy12Gx23', 'Gy01Gx23Gx12Gy23', 'Gy12Gy01Gy12Gy12']\n",
      "Local optimum:\n",
      "['{}', 'Gy01', 'Gx01Gy12', 'Gx01Gx12Gx12', 'Gy01Gy01Gx12', 'Gx01Gx01Gy12Gy12', 'Gx01Gx12Gy01Gy01', 'Gx01Gx12Gx23Gx23', 'Gx01Gy12Gx01Gx01', 'Gx01Gy12Gy12Gy12', 'Gx01Gy12Gy12Gx23', 'Gx01Gy12Gy12Gy23', 'Gx01Gy12Gx23Gx23', 'Gx01Gy12Gy23Gy23', 'Gy01Gy01Gy12Gx23', 'Gy01Gy01Gy12Gy23']\n",
      "Finished iteration 1 of 1.\n",
      "Preparation fiducials:\n",
      "['{}', 'Gy01', 'Gx01Gy12', 'Gx01Gx12Gx12', 'Gy01Gy01Gx12', 'Gx01Gx01Gy12Gy12', 'Gx01Gx12Gy01Gy01', 'Gx01Gx12Gx23Gx23', 'Gx01Gy12Gx01Gx01', 'Gx01Gy12Gy12Gy12', 'Gx01Gy12Gy12Gx23', 'Gx01Gy12Gy12Gy23', 'Gx01Gy12Gx23Gx23', 'Gx01Gy12Gy23Gy23', 'Gy01Gy01Gy12Gx23', 'Gy01Gy01Gy12Gy23']\n",
      "Score: 1268.015453034622\n",
      "Complete initial fiducial set succeeds.\n",
      "Now searching for best fiducial set.\n",
      "Starting fiducial list optimization. Lower score is better.\n",
      "Starting iteration 1 of 1.\n",
      "Initial construction:\n",
      "['{}', 'Gx01Gx12Gx01Gx23', 'Gx23Gy23Gy12Gx01', 'Gy01Gx12Gy01Gx23', 'Gy23Gx12Gy01Gx23']\n",
      "Local optimum:\n",
      "['{}', 'Gx12Gx01Gy12Gx23', 'Gy12Gy01Gx23Gy12', 'Gy23Gx12Gy01Gx23', 'Gy23Gx12Gy12Gx01']\n",
      "Finished iteration 1 of 1.\n",
      "Measurement fiducials:\n",
      "['{}', 'Gx12Gx01Gy12Gx23', 'Gy12Gy01Gx23Gy12', 'Gy23Gx12Gy01Gx23', 'Gy23Gx12Gy12Gx01']\n",
      "Score: 242.19591998885187\n"
     ]
    }
   ],
   "source": [
    "fiducial_alg = 'grasp'\n",
    "prepFiducials, measFiducials = fidsel.find_fiducials(qudit_model, max_fid_length=dim, algorithm=fiducial_alg,\n",
    "                                                     algorithm_kwargs={'iterations':1}, verbosity=3)"
   ]
  },
  {
   "cell_type": "code",
   "execution_count": null,
   "id": "piano-alaska",
   "metadata": {},
   "outputs": [
    {
     "name": "stdout",
     "output_type": "stream",
     "text": [
      "Using greedy algorithm.\n",
      "Complete initial germ set succeeds on all input models.\n",
      "Now searching for best germ set.\n",
      "Starting germ set optimization. Lower score is better.\n",
      "  Outer iteration: 1 of 1538 amplified, 7 germs\n"
     ]
    }
   ],
   "source": [
    "germ_alg = 'greedy'\n",
    "candidate_germ_counts = {3:'all upto'}\n",
    "germs = germsel.find_germs(qudit_model, candidate_germ_counts=candidate_germ_counts, algorithm=germ_alg, verbosity=3)"
   ]
  },
  {
   "cell_type": "markdown",
   "id": "eligible-nerve",
   "metadata": {},
   "source": [
    "Now that we have germs and fiducials, we can construct the list of experiments we need to perform in\n",
    "order to do GST. The only new things to provide at this point are the sizes for the experiments we want\n",
    "to perform (in this case we want to perform between 0 and 256 gates between fiducial pairs, going up\n",
    "by a factor of 2 at each stage)."
   ]
  },
  {
   "cell_type": "code",
   "execution_count": 34,
   "id": "living-pregnancy",
   "metadata": {},
   "outputs": [],
   "source": [
    "maxLengths = [2**n for n in range(3)]\n",
    "listOfExperiments = pygsti.circuits.create_lsgst_circuits(\n",
    "    qudit_model, prepFiducials, measFiducials, germs, maxLengths)"
   ]
  },
  {
   "cell_type": "code",
   "execution_count": 42,
   "id": "animal-perception",
   "metadata": {},
   "outputs": [
    {
     "ename": "ValueError",
     "evalue": "Cannot determine format from extension of filename: ./experiments/exp_d3_germs_greedy_fids_grasp",
     "output_type": "error",
     "traceback": [
      "\u001b[0;31m---------------------------------------------------------------------------\u001b[0m",
      "\u001b[0;31mValueError\u001b[0m                                Traceback (most recent call last)",
      "\u001b[0;32m<ipython-input-42-3e04a90ce96c>\u001b[0m in \u001b[0;36m<module>\u001b[0;34m\u001b[0m\n\u001b[0;32m----> 1\u001b[0;31m \u001b[0mlistOfExperiments\u001b[0m\u001b[0;34m.\u001b[0m\u001b[0mwrite\u001b[0m\u001b[0;34m(\u001b[0m\u001b[0;34mf'./experiments/exp_d{dim}_germs_{germ_alg}_fids_{fiducial_alg}'\u001b[0m\u001b[0;34m,\u001b[0m \u001b[0mformat\u001b[0m\u001b[0;34m=\u001b[0m\u001b[0;34m'repr'\u001b[0m\u001b[0;34m)\u001b[0m\u001b[0;34m\u001b[0m\u001b[0;34m\u001b[0m\u001b[0m\n\u001b[0m",
      "\u001b[0;32m~/Documents/github/pyGSTi/pygsti/baseobjs/nicelyserializable.py\u001b[0m in \u001b[0;36mwrite\u001b[0;34m(self, path, **format_kwargs)\u001b[0m\n\u001b[1;32m    173\u001b[0m             \u001b[0mformat\u001b[0m \u001b[0;34m=\u001b[0m \u001b[0;34m'json'\u001b[0m\u001b[0;34m\u001b[0m\u001b[0;34m\u001b[0m\u001b[0m\n\u001b[1;32m    174\u001b[0m         \u001b[0;32melse\u001b[0m\u001b[0;34m:\u001b[0m\u001b[0;34m\u001b[0m\u001b[0;34m\u001b[0m\u001b[0m\n\u001b[0;32m--> 175\u001b[0;31m             \u001b[0;32mraise\u001b[0m \u001b[0mValueError\u001b[0m\u001b[0;34m(\u001b[0m\u001b[0;34m\"Cannot determine format from extension of filename: %s\"\u001b[0m \u001b[0;34m%\u001b[0m \u001b[0mstr\u001b[0m\u001b[0;34m(\u001b[0m\u001b[0mpath\u001b[0m\u001b[0;34m)\u001b[0m\u001b[0;34m)\u001b[0m\u001b[0;34m\u001b[0m\u001b[0;34m\u001b[0m\u001b[0m\n\u001b[0m\u001b[1;32m    176\u001b[0m \u001b[0;34m\u001b[0m\u001b[0m\n\u001b[1;32m    177\u001b[0m         \u001b[0;32mwith\u001b[0m \u001b[0mopen\u001b[0m\u001b[0;34m(\u001b[0m\u001b[0mstr\u001b[0m\u001b[0;34m(\u001b[0m\u001b[0mpath\u001b[0m\u001b[0;34m)\u001b[0m\u001b[0;34m,\u001b[0m \u001b[0;34m'w'\u001b[0m\u001b[0;34m)\u001b[0m \u001b[0;32mas\u001b[0m \u001b[0mf\u001b[0m\u001b[0;34m:\u001b[0m\u001b[0;34m\u001b[0m\u001b[0;34m\u001b[0m\u001b[0m\n",
      "\u001b[0;31mValueError\u001b[0m: Cannot determine format from extension of filename: ./experiments/exp_d3_germs_greedy_fids_grasp"
     ]
    }
   ],
   "source": [
    "listOfExperiments.write(f'./experiments/exp_d{dim}_germs_{germ_alg}_fids_{fiducial_alg}.json')"
   ]
  },
  {
   "cell_type": "markdown",
   "id": "realistic-federation",
   "metadata": {},
   "source": [
    "## More control"
   ]
  },
  {
   "cell_type": "code",
   "execution_count": null,
   "id": "contemporary-panic",
   "metadata": {},
   "outputs": [],
   "source": [
    "slackPrepFids, slackMeasFids = fidsel.find_fiducials(qudit_model,\n",
    "                                                     algorithm='slack',\n",
    "                                                     # algorithm='grasp',\n",
    "                                                     algorithm_kwargs={\n",
    "                                                        'slack_frac': 0.25,\n",
    "#                                                         'iterations': 100\n",
    "                                                     },\n",
    "                                                    )"
   ]
  },
  {
   "cell_type": "code",
   "execution_count": null,
   "id": "analyzed-broad",
   "metadata": {},
   "outputs": [],
   "source": [
    "graspPrepFids, graspMeasFids = fidsel.find_fiducials(qudit_model,\n",
    "                                                     algorithm='grasp',\n",
    "                                                     algorithm_kwargs={\n",
    "                                                        'iterations': 100\n",
    "                                                     },\n",
    "                                                     max_fid_length=3,\n",
    "                                                     verbosity=1\n",
    "                                                    )"
   ]
  },
  {
   "cell_type": "code",
   "execution_count": null,
   "id": "charitable-stockholm",
   "metadata": {},
   "outputs": [],
   "source": [
    "graspGerms = germsel.find_germs(qudit_model,\n",
    "                                algorithm='grasp',\n",
    "                                candidate_germ_counts={3:'all upto'},\n",
    "                                algorithm_kwargs={'iterations': 100},\n",
    "                               verbosity=3)"
   ]
  },
  {
   "cell_type": "code",
   "execution_count": null,
   "id": "figured-wrestling",
   "metadata": {},
   "outputs": [],
   "source": [
    "maxLengths = [2**n for n in range(3)]\n",
    "listOfExperiments = pygsti.circuits.create_lsgst_circuits(\n",
    "    qudit_model, graspPrepFids, graspMeasFids, graspGerms, maxLengths)"
   ]
  },
  {
   "cell_type": "markdown",
   "id": "varied-hydrogen",
   "metadata": {},
   "source": [
    "## Pre-defined (from qubit case)"
   ]
  },
  {
   "cell_type": "code",
   "execution_count": 28,
   "id": "aware-passion",
   "metadata": {},
   "outputs": [],
   "source": [
    "fiducialPrep = pygsti.circuits.to_circuits(\n",
    "    [(),\n",
    "     ('Gx01',),\n",
    "     ('Gx01','Gx01','Gx01')\n",
    "    ])\n",
    "\n",
    "fiducialMeasure = pygsti.circuits.to_circuits(\n",
    "    [\n",
    "    (),\n",
    "    ('Gx01',),\n",
    "    ]\n",
    ")\n",
    "\n",
    "maxLengths = [1,2,4]\n",
    "\n",
    "germs = pygsti.circuits.to_circuits(\n",
    "[('Gi',),\n",
    " ('Gx01',),\n",
    " ('Gi', 'Gi', 'Gx01'),\n",
    " ('Gi', 'Gx01', 'Gx01'),\n",
    "]\n",
    ")"
   ]
  },
  {
   "cell_type": "code",
   "execution_count": 21,
   "id": "double-street",
   "metadata": {},
   "outputs": [],
   "source": [
    "fiducialPrep = pygsti.circuits.to_circuits(\n",
    "    [(),\n",
    "     ('Gx01',),\n",
    "     ('Gy01',),\n",
    "     ('Gx01', 'Gx12'),\n",
    "     ('Gy01', 'Gx12'),\n",
    "     ('Gx01', 'Gy12'),\n",
    "     ('Gy01', 'Gy12'),\n",
    "     \n",
    "     ('Gx01', 'Gx12', 'Gx23'),\n",
    "     ('Gy01', 'Gx12', 'Gx23'),\n",
    "     ('Gx01', 'Gy12', 'Gx23'),\n",
    "     ('Gy01', 'Gy12', 'Gx23'),\n",
    "     ('Gx01', 'Gx12', 'Gy23'),\n",
    "     ('Gy01', 'Gx12', 'Gy23'),\n",
    "     ('Gx01', 'Gy12', 'Gy23'),\n",
    "     ('Gy01', 'Gy12', 'Gy23'),\n",
    "    ])\n",
    "\n",
    "fiducialMeasure = pygsti.circuits.to_circuits(\n",
    "    [\n",
    "    (),\n",
    "    ('Gx01',),\n",
    "    ]\n",
    ")\n",
    "\n",
    "maxLengths = [1,2,4]\n",
    "\n",
    "germs = pygsti.circuits.to_circuits(\n",
    "[('Gi',),\n",
    " ('Gx01',),\n",
    "\n",
    "#  ('Gi', 'Gi', 'Gx01'),\n",
    "#  ('Gi', 'Gx01', 'Gx01'),\n",
    "]\n",
    ")"
   ]
  },
  {
   "cell_type": "code",
   "execution_count": 21,
   "id": "wicked-subsection",
   "metadata": {},
   "outputs": [
    {
     "name": "stdout",
     "output_type": "stream",
     "text": [
      "3 prep fiducials\n",
      "2 meas fiducials\n",
      "4 germs\n"
     ]
    }
   ],
   "source": [
    "print(\"%d prep fiducials\" % len(fiducialPrep))\n",
    "print(\"%d meas fiducials\" % len(fiducialMeasure))\n",
    "print(\"%d germs\" % len(germs))"
   ]
  },
  {
   "cell_type": "markdown",
   "id": "secure-completion",
   "metadata": {},
   "source": [
    "## Create experiment list and dataset"
   ]
  },
  {
   "cell_type": "code",
   "execution_count": 58,
   "id": "included-suicide",
   "metadata": {},
   "outputs": [],
   "source": [
    "# #generate data template\n",
    "expList = pygsti.circuits.create_lsgst_circuits(qudit_model.operations.keys(), prepFiducials, measFiducials, germs,  maxLengths)\n",
    "pygsti.io.write_empty_dataset(f\"example_files/dataTemplate_qu{dim}it_maxL={maxLengths[-1]}.txt\", expList, \n",
    "                              \"## Columns = \" + \", \".join([f\"{k} count\" for k in range(dim)]))"
   ]
  },
  {
   "cell_type": "markdown",
   "id": "religious-arrival",
   "metadata": {},
   "source": [
    "At this point **STOP** and create/fill a dataset file using the template written in the above cell.  Then proceed with the lines below to run GST on the data and create (hopefully useful) reports telling you about your gates."
   ]
  },
  {
   "cell_type": "code",
   "execution_count": 59,
   "id": "announced-humidity",
   "metadata": {},
   "outputs": [],
   "source": [
    "mdl_datagen = qudit_model.depolarize(0.05)\n",
    "DS = pygsti.data.simulate_data(mdl_datagen, expList, 500, sample_error='multinomial', seed=2018)"
   ]
  },
  {
   "cell_type": "markdown",
   "id": "heavy-crest",
   "metadata": {},
   "source": [
    "# Simulate GST"
   ]
  },
  {
   "cell_type": "code",
   "execution_count": 73,
   "id": "distinguished-volunteer",
   "metadata": {},
   "outputs": [],
   "source": [
    "from pygsti.forwardsims import MapForwardSimulator"
   ]
  },
  {
   "cell_type": "code",
   "execution_count": 80,
   "id": "given-transmission",
   "metadata": {},
   "outputs": [],
   "source": [
    "qudit_model.sim = MapForwardSimulator(num_atoms=4, param_blk_sizes=(2*(1024)**3,))"
   ]
  },
  {
   "cell_type": "code",
   "execution_count": 81,
   "id": "friendly-belle",
   "metadata": {},
   "outputs": [
    {
     "name": "stdout",
     "output_type": "stream",
     "text": [
      "--- Circuit Creation ---\n",
      "   2025 circuits created\n",
      "   Dataset has 2025 entries: 2025 utilized, 0 requested circuits were missing\n",
      "-- Std Practice:  Iter 1 of 1  (CPTP) --: \n",
      "  --- Iterative GST: Iter 1 of 3  206 circuits ---: \n",
      "    Layout creation w/mem limit = 12.00GB\n",
      "    MapLayout: 1 processors divided into 1 x 1 (= 1) grid along circuit and parameter directions.\n",
      "       4 atoms, parameter block size limits (2147483648,)\n",
      "    *** Distributing 4 atoms to 1 atom-processing groups (1 cores) ***\n",
      "        More atom-processors than hosts: each host gets ~1 atom-processors\n",
      "        Atom-processors already occupy a single node, dividing atom-processor into 1 param-processors.\n",
      "    *** Divided 1-host atom-processor (~1 procs) into 1 param-processing groups ***\n",
      "       Esimated memory required = 0.0GB\n",
      "    --- chi2 GST ---\n",
      "      --- Outer Iter 0: norm_f = 567673, mu=1, |x|=2.5651, |J|=10019.9\n",
      "      --- Outer Iter 1: norm_f = 86417.5, mu=4979.58, |x|=2.60506, |J|=21885\n",
      "      --- Outer Iter 2: norm_f = 4944.69, mu=1659.86, |x|=2.68392, |J|=1742.99\n",
      "      Caught keyboard interrupt!  Returning the current solution as being *converged*.\n",
      "      Least squares message = Keyboard interrupt!\n",
      "    Sum of Chi^2 = 1588.11 (412 data params - 504 (approx) model params = expected mean of -92; p-value = nan)\n",
      "    Completed in 16.6s\n",
      "    Iteration 1 took 16.7s\n",
      "    \n",
      "  --- Iterative GST: Iter 2 of 3  582 circuits ---: \n",
      "    Layout creation w/mem limit = 12.00GB\n",
      "    MapLayout: 1 processors divided into 1 x 1 (= 1) grid along circuit and parameter directions.\n",
      "       4 atoms, parameter block size limits (2147483648,)\n",
      "    *** Distributing 4 atoms to 1 atom-processing groups (1 cores) ***\n",
      "        More atom-processors than hosts: each host gets ~1 atom-processors\n",
      "        Atom-processors already occupy a single node, dividing atom-processor into 1 param-processors.\n",
      "    *** Divided 1-host atom-processor (~1 procs) into 1 param-processing groups ***\n"
     ]
    },
    {
     "ename": "KeyboardInterrupt",
     "evalue": "",
     "output_type": "error",
     "traceback": [
      "\u001b[0;31m---------------------------------------------------------------------------\u001b[0m",
      "\u001b[0;31mKeyboardInterrupt\u001b[0m                         Traceback (most recent call last)",
      "\u001b[0;32m<ipython-input-81-54c81922cb80>\u001b[0m in \u001b[0;36m<module>\u001b[0;34m\u001b[0m\n\u001b[1;32m      2\u001b[0m \u001b[0;34m\u001b[0m\u001b[0m\n\u001b[1;32m      3\u001b[0m result = pygsti.run_stdpractice_gst(DS,qudit_model,prepFiducials,measFiducials,germs,maxLengths,\n\u001b[0;32m----> 4\u001b[0;31m                                  verbosity=4, comm=None, mem_limit=12*(1024)**3, modes='CPTP')\n\u001b[0m",
      "\u001b[0;32m~/Documents/github/pyGSTi/pygsti/drivers/longsequence.py\u001b[0m in \u001b[0;36mrun_stdpractice_gst\u001b[0;34m(data_filename_or_set, processorspec_filename_or_object, prep_fiducial_list_or_filename, meas_fiducial_list_or_filename, germs_list_or_filename, max_lengths, modes, gaugeopt_suite, gaugeopt_target, models_to_test, comm, mem_limit, advanced_options, output_pkl, verbosity)\u001b[0m\n\u001b[1;32m    713\u001b[0m         \u001b[0mproto\u001b[0m\u001b[0;34m.\u001b[0m\u001b[0m_hack_target_model\u001b[0m \u001b[0;34m=\u001b[0m \u001b[0mprocessorspec_filename_or_object\u001b[0m\u001b[0;34m\u001b[0m\u001b[0;34m\u001b[0m\u001b[0m\n\u001b[1;32m    714\u001b[0m \u001b[0;34m\u001b[0m\u001b[0m\n\u001b[0;32m--> 715\u001b[0;31m     \u001b[0mresults\u001b[0m \u001b[0;34m=\u001b[0m \u001b[0mproto\u001b[0m\u001b[0;34m.\u001b[0m\u001b[0mrun\u001b[0m\u001b[0;34m(\u001b[0m\u001b[0mdata\u001b[0m\u001b[0;34m,\u001b[0m \u001b[0mmem_limit\u001b[0m\u001b[0;34m,\u001b[0m \u001b[0mcomm\u001b[0m\u001b[0;34m)\u001b[0m\u001b[0;34m\u001b[0m\u001b[0;34m\u001b[0m\u001b[0m\n\u001b[0m\u001b[1;32m    716\u001b[0m     \u001b[0m_output_to_pickle\u001b[0m\u001b[0;34m(\u001b[0m\u001b[0mresults\u001b[0m\u001b[0;34m,\u001b[0m \u001b[0moutput_pkl\u001b[0m\u001b[0;34m,\u001b[0m \u001b[0mcomm\u001b[0m\u001b[0;34m)\u001b[0m\u001b[0;34m\u001b[0m\u001b[0;34m\u001b[0m\u001b[0m\n\u001b[1;32m    717\u001b[0m     \u001b[0;32mreturn\u001b[0m \u001b[0mresults\u001b[0m\u001b[0;34m\u001b[0m\u001b[0;34m\u001b[0m\u001b[0m\n",
      "\u001b[0;32m~/Documents/github/pyGSTi/pygsti/protocols/gst.py\u001b[0m in \u001b[0;36mrun\u001b[0;34m(self, data, memlimit, comm)\u001b[0m\n\u001b[1;32m   1604\u001b[0m                     gst = GST(initial_model, self.gaugeopt_suite, self.objfn_builders,\n\u001b[1;32m   1605\u001b[0m                               self.optimizer, self.badfit_options, verbosity=printer - 1, name=mode)\n\u001b[0;32m-> 1606\u001b[0;31m                     \u001b[0mresult\u001b[0m \u001b[0;34m=\u001b[0m \u001b[0mgst\u001b[0m\u001b[0;34m.\u001b[0m\u001b[0mrun\u001b[0m\u001b[0;34m(\u001b[0m\u001b[0mdata\u001b[0m\u001b[0;34m,\u001b[0m \u001b[0mmemlimit\u001b[0m\u001b[0;34m,\u001b[0m \u001b[0mcomm\u001b[0m\u001b[0;34m)\u001b[0m\u001b[0;34m\u001b[0m\u001b[0;34m\u001b[0m\u001b[0m\n\u001b[0m\u001b[1;32m   1607\u001b[0m                     \u001b[0mret\u001b[0m\u001b[0;34m.\u001b[0m\u001b[0madd_estimates\u001b[0m\u001b[0;34m(\u001b[0m\u001b[0mresult\u001b[0m\u001b[0;34m)\u001b[0m\u001b[0;34m\u001b[0m\u001b[0;34m\u001b[0m\u001b[0m\n\u001b[1;32m   1608\u001b[0m \u001b[0;34m\u001b[0m\u001b[0m\n",
      "\u001b[0;32m~/Documents/github/pyGSTi/pygsti/protocols/gst.py\u001b[0m in \u001b[0;36mrun\u001b[0;34m(self, data, memlimit, comm)\u001b[0m\n\u001b[1;32m   1230\u001b[0m             \u001b[0mds\u001b[0m\u001b[0;34m,\u001b[0m \u001b[0mmdl_start\u001b[0m\u001b[0;34m,\u001b[0m \u001b[0mbulk_circuit_lists\u001b[0m\u001b[0;34m,\u001b[0m \u001b[0mself\u001b[0m\u001b[0;34m.\u001b[0m\u001b[0moptimizer\u001b[0m\u001b[0;34m,\u001b[0m\u001b[0;34m\u001b[0m\u001b[0;34m\u001b[0m\u001b[0m\n\u001b[1;32m   1231\u001b[0m             \u001b[0mself\u001b[0m\u001b[0;34m.\u001b[0m\u001b[0mobjfn_builders\u001b[0m\u001b[0;34m.\u001b[0m\u001b[0miteration_builders\u001b[0m\u001b[0;34m,\u001b[0m \u001b[0mself\u001b[0m\u001b[0;34m.\u001b[0m\u001b[0mobjfn_builders\u001b[0m\u001b[0;34m.\u001b[0m\u001b[0mfinal_builders\u001b[0m\u001b[0;34m,\u001b[0m\u001b[0;34m\u001b[0m\u001b[0;34m\u001b[0m\u001b[0m\n\u001b[0;32m-> 1232\u001b[0;31m             resource_alloc, printer)\n\u001b[0m\u001b[1;32m   1233\u001b[0m \u001b[0;34m\u001b[0m\u001b[0m\n\u001b[1;32m   1234\u001b[0m         \u001b[0mtnxt\u001b[0m \u001b[0;34m=\u001b[0m \u001b[0m_time\u001b[0m\u001b[0;34m.\u001b[0m\u001b[0mtime\u001b[0m\u001b[0;34m(\u001b[0m\u001b[0;34m)\u001b[0m\u001b[0;34m;\u001b[0m \u001b[0mprofiler\u001b[0m\u001b[0;34m.\u001b[0m\u001b[0madd_time\u001b[0m\u001b[0;34m(\u001b[0m\u001b[0;34m'GST: total iterative optimization'\u001b[0m\u001b[0;34m,\u001b[0m \u001b[0mtref\u001b[0m\u001b[0;34m)\u001b[0m\u001b[0;34m;\u001b[0m \u001b[0mtref\u001b[0m \u001b[0;34m=\u001b[0m \u001b[0mtnxt\u001b[0m\u001b[0;34m\u001b[0m\u001b[0;34m\u001b[0m\u001b[0m\n",
      "\u001b[0;32m~/Documents/github/pyGSTi/pygsti/algorithms/core.py\u001b[0m in \u001b[0;36mrun_iterative_gst\u001b[0;34m(dataset, start_model, circuit_lists, optimizer, iteration_objfn_builders, final_objfn_builders, resource_alloc, verbosity)\u001b[0m\n\u001b[1;32m    793\u001b[0m                                   for builder in iteration_objfn_builders + final_objfn_builders])\n\u001b[1;32m    794\u001b[0m             initial_mdc_store = _objfns.ModelDatasetCircuitsStore(mdl, dataset, circuitsToEstimate, resource_alloc,\n\u001b[0;32m--> 795\u001b[0;31m                                                                   array_types=array_types, verbosity=printer - 1)\n\u001b[0m\u001b[1;32m    796\u001b[0m             \u001b[0mmdc_store\u001b[0m \u001b[0;34m=\u001b[0m \u001b[0minitial_mdc_store\u001b[0m\u001b[0;34m\u001b[0m\u001b[0;34m\u001b[0m\u001b[0m\n\u001b[1;32m    797\u001b[0m \u001b[0;34m\u001b[0m\u001b[0m\n",
      "\u001b[0;32m~/Documents/github/pyGSTi/pygsti/objectivefns/objectivefns.py\u001b[0m in \u001b[0;36m__init__\u001b[0;34m(self, model, dataset, circuits, resource_alloc, array_types, precomp_layout, verbosity)\u001b[0m\n\u001b[1;32m    860\u001b[0m         \u001b[0;32mif\u001b[0m \u001b[0mprecomp_layout\u001b[0m \u001b[0;32mis\u001b[0m \u001b[0;32mNone\u001b[0m\u001b[0;34m:\u001b[0m\u001b[0;34m\u001b[0m\u001b[0;34m\u001b[0m\u001b[0m\n\u001b[1;32m    861\u001b[0m             self.layout = model.sim.create_layout(bulk_circuit_list, dataset, self.resource_alloc,\n\u001b[0;32m--> 862\u001b[0;31m                                                   array_types, verbosity=verbosity)  # a CircuitProbabilityArrayLayout\n\u001b[0m\u001b[1;32m    863\u001b[0m         \u001b[0;32melse\u001b[0m\u001b[0;34m:\u001b[0m\u001b[0;34m\u001b[0m\u001b[0;34m\u001b[0m\u001b[0m\n\u001b[1;32m    864\u001b[0m             \u001b[0mself\u001b[0m\u001b[0;34m.\u001b[0m\u001b[0mlayout\u001b[0m \u001b[0;34m=\u001b[0m \u001b[0mprecomp_layout\u001b[0m\u001b[0;34m\u001b[0m\u001b[0;34m\u001b[0m\u001b[0m\n",
      "\u001b[0;32m~/Documents/github/pyGSTi/pygsti/forwardsims/mapforwardsim.py\u001b[0m in \u001b[0;36mcreate_layout\u001b[0;34m(self, circuits, dataset, resource_alloc, array_types, derivative_dimension, verbosity)\u001b[0m\n\u001b[1;32m    242\u001b[0m \u001b[0;34m\u001b[0m\u001b[0m\n\u001b[1;32m    243\u001b[0m         layout = _MapCOPALayout(circuits, self.model, dataset, self._max_cache_size, natoms, na, npp,\n\u001b[0;32m--> 244\u001b[0;31m                                 param_dimensions, param_blk_sizes, resource_alloc, verbosity)\n\u001b[0m\u001b[1;32m    245\u001b[0m \u001b[0;34m\u001b[0m\u001b[0m\n\u001b[1;32m    246\u001b[0m         \u001b[0;32mif\u001b[0m \u001b[0mmem_limit\u001b[0m \u001b[0;32mis\u001b[0m \u001b[0;32mnot\u001b[0m \u001b[0;32mNone\u001b[0m\u001b[0;34m:\u001b[0m\u001b[0;34m\u001b[0m\u001b[0;34m\u001b[0m\u001b[0m\n",
      "\u001b[0;32m~/Documents/github/pyGSTi/pygsti/layouts/maplayout.py\u001b[0m in \u001b[0;36m__init__\u001b[0;34m(self, circuits, model, dataset, max_cache_size, num_sub_tables, num_table_processors, num_param_dimension_processors, param_dimensions, param_dimension_blk_sizes, resource_alloc, verbosity)\u001b[0m\n\u001b[1;32m    234\u001b[0m                          \u001b[0m_create_atom\u001b[0m\u001b[0;34m,\u001b[0m \u001b[0mgroups\u001b[0m\u001b[0;34m,\u001b[0m \u001b[0mnum_table_processors\u001b[0m\u001b[0;34m,\u001b[0m\u001b[0;34m\u001b[0m\u001b[0;34m\u001b[0m\u001b[0m\n\u001b[1;32m    235\u001b[0m                          \u001b[0mnum_param_dimension_processors\u001b[0m\u001b[0;34m,\u001b[0m \u001b[0mparam_dimensions\u001b[0m\u001b[0;34m,\u001b[0m\u001b[0;34m\u001b[0m\u001b[0;34m\u001b[0m\u001b[0m\n\u001b[0;32m--> 236\u001b[0;31m                          param_dimension_blk_sizes, resource_alloc, verbosity)\n\u001b[0m\u001b[1;32m    237\u001b[0m \u001b[0;34m\u001b[0m\u001b[0m\n\u001b[1;32m    238\u001b[0m         \u001b[0;31m# For time dependent calcs:\u001b[0m\u001b[0;34m\u001b[0m\u001b[0;34m\u001b[0m\u001b[0;34m\u001b[0m\u001b[0m\n",
      "\u001b[0;32m~/Documents/github/pyGSTi/pygsti/layouts/distlayout.py\u001b[0m in \u001b[0;36m__init__\u001b[0;34m(self, circuits, unique_circuits, to_unique, unique_complete_circuits, create_atom_fn, create_atom_args, num_atom_processors, num_param_dimension_processors, param_dimensions, param_dimension_blk_sizes, resource_alloc, verbosity)\u001b[0m\n\u001b[1;32m    808\u001b[0m \u001b[0;34m\u001b[0m\u001b[0m\n\u001b[1;32m    809\u001b[0m         super().__init__(local_circuits, local_unique_circuits, local_to_unique, local_elindex_outcome_tuples,\n\u001b[0;32m--> 810\u001b[0;31m                          local_unique_complete_circuits, param_dimensions, resource_alloc)\n\u001b[0m\u001b[1;32m    811\u001b[0m \u001b[0;34m\u001b[0m\u001b[0m\n\u001b[1;32m    812\u001b[0m         \u001b[0;31m#DEBUG LAYOUT PRINTING\u001b[0m\u001b[0;34m\u001b[0m\u001b[0;34m\u001b[0m\u001b[0;34m\u001b[0m\u001b[0m\n",
      "\u001b[0;32m~/Documents/github/pyGSTi/pygsti/layouts/copalayout.py\u001b[0m in \u001b[0;36m__init__\u001b[0;34m(self, circuits, unique_circuits, to_unique, elindex_outcome_tuples, unique_complete_circuits, param_dimensions, resource_alloc)\u001b[0m\n\u001b[1;32m    208\u001b[0m         \u001b[0;32mfor\u001b[0m \u001b[0mi_unique\u001b[0m\u001b[0;34m,\u001b[0m \u001b[0mtuples\u001b[0m \u001b[0;32min\u001b[0m \u001b[0melindex_outcome_tuples\u001b[0m\u001b[0;34m.\u001b[0m\u001b[0mitems\u001b[0m\u001b[0;34m(\u001b[0m\u001b[0;34m)\u001b[0m\u001b[0;34m:\u001b[0m\u001b[0;34m\u001b[0m\u001b[0;34m\u001b[0m\u001b[0m\n\u001b[1;32m    209\u001b[0m             \u001b[0msorted_tuples\u001b[0m \u001b[0;34m=\u001b[0m \u001b[0msorted\u001b[0m\u001b[0;34m(\u001b[0m\u001b[0mtuples\u001b[0m\u001b[0;34m,\u001b[0m \u001b[0mkey\u001b[0m\u001b[0;34m=\u001b[0m\u001b[0;32mlambda\u001b[0m \u001b[0mx\u001b[0m\u001b[0;34m:\u001b[0m \u001b[0mx\u001b[0m\u001b[0;34m[\u001b[0m\u001b[0;36m0\u001b[0m\u001b[0;34m]\u001b[0m\u001b[0;34m)\u001b[0m  \u001b[0;31m# sort by element index\u001b[0m\u001b[0;34m\u001b[0m\u001b[0;34m\u001b[0m\u001b[0m\n\u001b[0;32m--> 210\u001b[0;31m             \u001b[0melindices\u001b[0m\u001b[0;34m,\u001b[0m \u001b[0moutcomes\u001b[0m \u001b[0;34m=\u001b[0m \u001b[0mzip\u001b[0m\u001b[0;34m(\u001b[0m\u001b[0;34m*\u001b[0m\u001b[0msorted_tuples\u001b[0m\u001b[0;34m)\u001b[0m  \u001b[0;31m# sorted by elindex so we make slices whenever possible\u001b[0m\u001b[0;34m\u001b[0m\u001b[0;34m\u001b[0m\u001b[0m\n\u001b[0m\u001b[1;32m    211\u001b[0m             \u001b[0mself\u001b[0m\u001b[0;34m.\u001b[0m\u001b[0m_outcomes\u001b[0m\u001b[0;34m[\u001b[0m\u001b[0mi_unique\u001b[0m\u001b[0;34m]\u001b[0m \u001b[0;34m=\u001b[0m \u001b[0mtuple\u001b[0m\u001b[0;34m(\u001b[0m\u001b[0moutcomes\u001b[0m\u001b[0;34m)\u001b[0m\u001b[0;34m\u001b[0m\u001b[0;34m\u001b[0m\u001b[0m\n\u001b[1;32m    212\u001b[0m             \u001b[0mself\u001b[0m\u001b[0;34m.\u001b[0m\u001b[0m_element_indices\u001b[0m\u001b[0;34m[\u001b[0m\u001b[0mi_unique\u001b[0m\u001b[0;34m]\u001b[0m \u001b[0;34m=\u001b[0m \u001b[0m_slct\u001b[0m\u001b[0;34m.\u001b[0m\u001b[0mlist_to_slice\u001b[0m\u001b[0;34m(\u001b[0m\u001b[0melindices\u001b[0m\u001b[0;34m,\u001b[0m \u001b[0marray_ok\u001b[0m\u001b[0;34m=\u001b[0m\u001b[0;32mTrue\u001b[0m\u001b[0;34m)\u001b[0m\u001b[0;34m\u001b[0m\u001b[0;34m\u001b[0m\u001b[0m\n",
      "\u001b[0;31mKeyboardInterrupt\u001b[0m: "
     ]
    }
   ],
   "source": [
    "# qudit_model.sim = \"matrix\"\n",
    "\n",
    "result = pygsti.run_stdpractice_gst(DS,qudit_model,prepFiducials,measFiducials,germs,maxLengths,\n",
    "                                 verbosity=4, comm=None, mem_limit=12*(1024)**3, modes='CPTP')"
   ]
  },
  {
   "cell_type": "code",
   "execution_count": 78,
   "id": "weird-movement",
   "metadata": {},
   "outputs": [
    {
     "name": "stdout",
     "output_type": "stream",
     "text": [
      "> \u001b[0;32m/home/maij/Documents/github/pyGSTi/pygsti/forwardsims/distforwardsim.py\u001b[0m(455)\u001b[0;36m_compute_processor_distribution\u001b[0;34m()\u001b[0m\n",
      "\u001b[0;32m    453 \u001b[0;31m        \u001b[0mparam_dimensions\u001b[0m \u001b[0;34m=\u001b[0m \u001b[0;34m(\u001b[0m\u001b[0mnum_params\u001b[0m\u001b[0;34m,\u001b[0m\u001b[0;34m)\u001b[0m \u001b[0;34m*\u001b[0m \u001b[0;34m(\u001b[0m\u001b[0mint\u001b[0m\u001b[0;34m(\u001b[0m\u001b[0mbNp1Matters\u001b[0m\u001b[0;34m)\u001b[0m \u001b[0;34m+\u001b[0m \u001b[0mint\u001b[0m\u001b[0;34m(\u001b[0m\u001b[0mbNp2Matters\u001b[0m\u001b[0;34m)\u001b[0m\u001b[0;34m)\u001b[0m\u001b[0;34m\u001b[0m\u001b[0;34m\u001b[0m\u001b[0m\n",
      "\u001b[0m\u001b[0;32m    454 \u001b[0;31m        \u001b[0mparam_blk_sizes\u001b[0m \u001b[0;34m=\u001b[0m \u001b[0;34m(\u001b[0m\u001b[0;32mNone\u001b[0m\u001b[0;34m,\u001b[0m\u001b[0;34m)\u001b[0m \u001b[0;34m*\u001b[0m \u001b[0mlen\u001b[0m\u001b[0;34m(\u001b[0m\u001b[0mparam_dimensions\u001b[0m\u001b[0;34m)\u001b[0m \u001b[0;32mif\u001b[0m \u001b[0;34m(\u001b[0m\u001b[0mself\u001b[0m\u001b[0;34m.\u001b[0m\u001b[0m_pblk_sizes\u001b[0m \u001b[0;32mis\u001b[0m \u001b[0;32mNone\u001b[0m\u001b[0;34m)\u001b[0m\u001b[0;31m \u001b[0m\u001b[0;31m\\\u001b[0m\u001b[0;34m\u001b[0m\u001b[0;34m\u001b[0m\u001b[0m\n",
      "\u001b[0m\u001b[0;32m--> 455 \u001b[0;31m            \u001b[0;32melse\u001b[0m \u001b[0mself\u001b[0m\u001b[0;34m.\u001b[0m\u001b[0m_pblk_sizes\u001b[0m\u001b[0;34m[\u001b[0m\u001b[0;36m0\u001b[0m\u001b[0;34m:\u001b[0m\u001b[0mlen\u001b[0m\u001b[0;34m(\u001b[0m\u001b[0mparam_dimensions\u001b[0m\u001b[0;34m)\u001b[0m\u001b[0;34m]\u001b[0m  \u001b[0;31m# automatically set these?\u001b[0m\u001b[0;34m\u001b[0m\u001b[0;34m\u001b[0m\u001b[0m\n",
      "\u001b[0m\u001b[0;32m    456 \u001b[0;31m\u001b[0;34m\u001b[0m\u001b[0m\n",
      "\u001b[0m\u001b[0;32m    457 \u001b[0;31m        \u001b[0;32mif\u001b[0m \u001b[0mself\u001b[0m\u001b[0;34m.\u001b[0m\u001b[0m_processor_grid\u001b[0m \u001b[0;32mis\u001b[0m \u001b[0;32mnot\u001b[0m \u001b[0;32mNone\u001b[0m\u001b[0;34m:\u001b[0m\u001b[0;34m\u001b[0m\u001b[0;34m\u001b[0m\u001b[0m\n",
      "\u001b[0m\n"
     ]
    },
    {
     "name": "stdin",
     "output_type": "stream",
     "text": [
      "ipdb>  self._pblk_sizes\n"
     ]
    },
    {
     "name": "stdout",
     "output_type": "stream",
     "text": [
      "2147483648\n"
     ]
    },
    {
     "name": "stdin",
     "output_type": "stream",
     "text": [
      "ipdb>  q\n"
     ]
    }
   ],
   "source": [
    "%debug"
   ]
  },
  {
   "cell_type": "code",
   "execution_count": 67,
   "id": "southeast-slide",
   "metadata": {},
   "outputs": [
    {
     "name": "stdout",
     "output_type": "stream",
     "text": [
      "Running idle tomography\n",
      "Computing switchable properties\n"
     ]
    }
   ],
   "source": [
    "#Create a report\n",
    "report_name = f\"Example qu{dim}it report\"\n",
    "ws = pygsti.report.construct_standard_report(\n",
    "    result, report_name, verbosity=3\n",
    ").write_html(f'example_files/{report_name.replace(\" \", \"_\")}', auto_open=True, verbosity=3)"
   ]
  }
 ],
 "metadata": {
  "kernelspec": {
   "display_name": "Python 3",
   "language": "python",
   "name": "python3"
  },
  "language_info": {
   "codemirror_mode": {
    "name": "ipython",
    "version": 3
   },
   "file_extension": ".py",
   "mimetype": "text/x-python",
   "name": "python",
   "nbconvert_exporter": "python",
   "pygments_lexer": "ipython3",
   "version": "3.6.9"
  }
 },
 "nbformat": 4,
 "nbformat_minor": 5
}
